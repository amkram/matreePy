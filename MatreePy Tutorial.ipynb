{
 "cells": [
  {
   "cell_type": "code",
   "execution_count": 1,
   "id": "d6c1a853",
   "metadata": {},
   "outputs": [],
   "source": [
    "import mat\n",
    "import pandas as pd\n",
    "import numpy as np\n",
    "import seaborn as sns\n",
    "import ete3"
   ]
  },
  {
   "cell_type": "markdown",
   "id": "009e87d8",
   "metadata": {},
   "source": [
    "The matreePy API is a wrapper on the Mutation_Annotated_Tree namespace and select matUtils functions, including the Tree and Node classes. "
   ]
  },
  {
   "cell_type": "code",
   "execution_count": 2,
   "id": "9ac9ee02",
   "metadata": {},
   "outputs": [
    {
     "name": "stdout",
     "output_type": "stream",
     "text": [
      "CPU times: user 23.7 s, sys: 1.68 s, total: 25.4 s\n",
      "Wall time: 17.1 s\n"
     ]
    }
   ],
   "source": [
    "%%time\n",
    "#loading takes several seconds, like the command line.\n",
    "t = mat.MATree(\"public-latest.all.masked.pb.gz\")"
   ]
  },
  {
   "cell_type": "code",
   "execution_count": 4,
   "id": "75cffa9d",
   "metadata": {},
   "outputs": [
    {
     "data": {
      "text/plain": [
       "3370883"
      ]
     },
     "execution_count": 4,
     "metadata": {},
     "output_type": "execute_result"
    }
   ],
   "source": [
    "t.get_parsimony_score()"
   ]
  },
  {
   "cell_type": "markdown",
   "id": "0003cc07",
   "metadata": {},
   "source": [
    "As a comparison point for efficiency, let's use the popular python phylogenetics package ete3. ete3 only works with newick, not with mutation annotated trees directly."
   ]
  },
  {
   "cell_type": "code",
   "execution_count": 5,
   "id": "43bbe0e7",
   "metadata": {},
   "outputs": [],
   "source": [
    "nwk = t.get_newick_string()"
   ]
  },
  {
   "cell_type": "code",
   "execution_count": 6,
   "id": "9654dcab",
   "metadata": {},
   "outputs": [
    {
     "ename": "KeyboardInterrupt",
     "evalue": "",
     "output_type": "error",
     "traceback": [
      "\u001b[0;31m---------------------------------------------------------------------------\u001b[0m",
      "\u001b[0;31mKeyboardInterrupt\u001b[0m                         Traceback (most recent call last)",
      "\u001b[0;32m<timed exec>\u001b[0m in \u001b[0;36m<module>\u001b[0;34m\u001b[0m\n",
      "\u001b[0;32m~/opt/anaconda3/lib/python3.8/site-packages/ete3/coretype/tree.py\u001b[0m in \u001b[0;36m__init__\u001b[0;34m(self, newick, format, dist, support, name, quoted_node_names)\u001b[0m\n\u001b[1;32m    210\u001b[0m         \u001b[0;32mif\u001b[0m \u001b[0mnewick\u001b[0m \u001b[0;32mis\u001b[0m \u001b[0;32mnot\u001b[0m \u001b[0;32mNone\u001b[0m\u001b[0;34m:\u001b[0m\u001b[0;34m\u001b[0m\u001b[0;34m\u001b[0m\u001b[0m\n\u001b[1;32m    211\u001b[0m             \u001b[0mself\u001b[0m\u001b[0;34m.\u001b[0m\u001b[0m_dist\u001b[0m \u001b[0;34m=\u001b[0m \u001b[0;36m0.0\u001b[0m\u001b[0;34m\u001b[0m\u001b[0;34m\u001b[0m\u001b[0m\n\u001b[0;32m--> 212\u001b[0;31m             read_newick(newick, root_node = self, format=format,\n\u001b[0m\u001b[1;32m    213\u001b[0m                         quoted_names=quoted_node_names)\n\u001b[1;32m    214\u001b[0m \u001b[0;34m\u001b[0m\u001b[0m\n",
      "\u001b[0;32m~/opt/anaconda3/lib/python3.8/site-packages/ete3/parser/newick.py\u001b[0m in \u001b[0;36mread_newick\u001b[0;34m(newick, root_node, format, quoted_names)\u001b[0m\n\u001b[1;32m    264\u001b[0m             \u001b[0;32mraise\u001b[0m \u001b[0mNewickError\u001b[0m\u001b[0;34m(\u001b[0m\u001b[0;34m'Unexisting tree file or Malformed newick tree structure.'\u001b[0m\u001b[0;34m)\u001b[0m\u001b[0;34m\u001b[0m\u001b[0;34m\u001b[0m\u001b[0m\n\u001b[1;32m    265\u001b[0m         \u001b[0;32melse\u001b[0m\u001b[0;34m:\u001b[0m\u001b[0;34m\u001b[0m\u001b[0;34m\u001b[0m\u001b[0m\n\u001b[0;32m--> 266\u001b[0;31m             \u001b[0;32mreturn\u001b[0m \u001b[0m_read_newick_from_string\u001b[0m\u001b[0;34m(\u001b[0m\u001b[0mnw\u001b[0m\u001b[0;34m,\u001b[0m \u001b[0mroot_node\u001b[0m\u001b[0;34m,\u001b[0m \u001b[0mmatcher\u001b[0m\u001b[0;34m,\u001b[0m \u001b[0mformat\u001b[0m\u001b[0;34m,\u001b[0m \u001b[0mquoted_names\u001b[0m\u001b[0;34m)\u001b[0m\u001b[0;34m\u001b[0m\u001b[0;34m\u001b[0m\u001b[0m\n\u001b[0m\u001b[1;32m    267\u001b[0m \u001b[0;34m\u001b[0m\u001b[0m\n\u001b[1;32m    268\u001b[0m     \u001b[0;32melse\u001b[0m\u001b[0;34m:\u001b[0m\u001b[0;34m\u001b[0m\u001b[0;34m\u001b[0m\u001b[0m\n",
      "\u001b[0;32m~/opt/anaconda3/lib/python3.8/site-packages/ete3/parser/newick.py\u001b[0m in \u001b[0;36m_read_newick_from_string\u001b[0;34m(nw, root_node, matcher, formatcode, quoted_names)\u001b[0m\n\u001b[1;32m    332\u001b[0m \u001b[0;34m\u001b[0m\u001b[0m\n\u001b[1;32m    333\u001b[0m             \u001b[0;31m# first part after splitting by ) always contain leaf info\u001b[0m\u001b[0;34m\u001b[0m\u001b[0;34m\u001b[0m\u001b[0;34m\u001b[0m\u001b[0m\n\u001b[0;32m--> 334\u001b[0;31m             \u001b[0m_read_node_data\u001b[0m\u001b[0;34m(\u001b[0m\u001b[0mclosing_nodes\u001b[0m\u001b[0;34m[\u001b[0m\u001b[0;36m0\u001b[0m\u001b[0;34m]\u001b[0m\u001b[0;34m,\u001b[0m \u001b[0mcurrent_parent\u001b[0m\u001b[0;34m,\u001b[0m \u001b[0;34m\"leaf\"\u001b[0m\u001b[0;34m,\u001b[0m \u001b[0mmatcher\u001b[0m\u001b[0;34m,\u001b[0m \u001b[0mformatcode\u001b[0m\u001b[0;34m)\u001b[0m\u001b[0;34m\u001b[0m\u001b[0;34m\u001b[0m\u001b[0m\n\u001b[0m\u001b[1;32m    335\u001b[0m \u001b[0;34m\u001b[0m\u001b[0m\n\u001b[1;32m    336\u001b[0m             \u001b[0;31m# next contain closing nodes and data about the internal nodes.\u001b[0m\u001b[0;34m\u001b[0m\u001b[0;34m\u001b[0m\u001b[0;34m\u001b[0m\u001b[0m\n",
      "\u001b[0;32m~/opt/anaconda3/lib/python3.8/site-packages/ete3/parser/newick.py\u001b[0m in \u001b[0;36m_read_node_data\u001b[0;34m(subnw, current_node, node_type, matcher, formatcode)\u001b[0m\n\u001b[1;32m    426\u001b[0m \u001b[0;34m\u001b[0m\u001b[0m\n\u001b[1;32m    427\u001b[0m     \u001b[0mcontainer1\u001b[0m\u001b[0;34m,\u001b[0m \u001b[0mcontainer2\u001b[0m\u001b[0;34m,\u001b[0m \u001b[0mconverterFn1\u001b[0m\u001b[0;34m,\u001b[0m \u001b[0mconverterFn2\u001b[0m\u001b[0;34m,\u001b[0m \u001b[0mcompiled_matcher\u001b[0m \u001b[0;34m=\u001b[0m \u001b[0mmatcher\u001b[0m\u001b[0;34m[\u001b[0m\u001b[0mnode_type\u001b[0m\u001b[0;34m]\u001b[0m\u001b[0;34m\u001b[0m\u001b[0;34m\u001b[0m\u001b[0m\n\u001b[0;32m--> 428\u001b[0;31m     \u001b[0mdata\u001b[0m \u001b[0;34m=\u001b[0m \u001b[0mre\u001b[0m\u001b[0;34m.\u001b[0m\u001b[0mmatch\u001b[0m\u001b[0;34m(\u001b[0m\u001b[0mcompiled_matcher\u001b[0m\u001b[0;34m,\u001b[0m \u001b[0msubnw\u001b[0m\u001b[0;34m)\u001b[0m\u001b[0;34m\u001b[0m\u001b[0;34m\u001b[0m\u001b[0m\n\u001b[0m\u001b[1;32m    429\u001b[0m     \u001b[0;32mif\u001b[0m \u001b[0mdata\u001b[0m\u001b[0;34m:\u001b[0m\u001b[0;34m\u001b[0m\u001b[0;34m\u001b[0m\u001b[0m\n\u001b[1;32m    430\u001b[0m         \u001b[0mdata\u001b[0m \u001b[0;34m=\u001b[0m \u001b[0mdata\u001b[0m\u001b[0;34m.\u001b[0m\u001b[0mgroups\u001b[0m\u001b[0;34m(\u001b[0m\u001b[0;34m)\u001b[0m\u001b[0;34m\u001b[0m\u001b[0;34m\u001b[0m\u001b[0m\n",
      "\u001b[0;32m~/opt/anaconda3/lib/python3.8/re.py\u001b[0m in \u001b[0;36mmatch\u001b[0;34m(pattern, string, flags)\u001b[0m\n\u001b[1;32m    189\u001b[0m     \"\"\"Try to apply the pattern at the start of the string, returning\n\u001b[1;32m    190\u001b[0m     a Match object, or None if no match was found.\"\"\"\n\u001b[0;32m--> 191\u001b[0;31m     \u001b[0;32mreturn\u001b[0m \u001b[0m_compile\u001b[0m\u001b[0;34m(\u001b[0m\u001b[0mpattern\u001b[0m\u001b[0;34m,\u001b[0m \u001b[0mflags\u001b[0m\u001b[0;34m)\u001b[0m\u001b[0;34m.\u001b[0m\u001b[0mmatch\u001b[0m\u001b[0;34m(\u001b[0m\u001b[0mstring\u001b[0m\u001b[0;34m)\u001b[0m\u001b[0;34m\u001b[0m\u001b[0;34m\u001b[0m\u001b[0m\n\u001b[0m\u001b[1;32m    192\u001b[0m \u001b[0;34m\u001b[0m\u001b[0m\n\u001b[1;32m    193\u001b[0m \u001b[0;32mdef\u001b[0m \u001b[0mfullmatch\u001b[0m\u001b[0;34m(\u001b[0m\u001b[0mpattern\u001b[0m\u001b[0;34m,\u001b[0m \u001b[0mstring\u001b[0m\u001b[0;34m,\u001b[0m \u001b[0mflags\u001b[0m\u001b[0;34m=\u001b[0m\u001b[0;36m0\u001b[0m\u001b[0;34m)\u001b[0m\u001b[0;34m:\u001b[0m\u001b[0;34m\u001b[0m\u001b[0;34m\u001b[0m\u001b[0m\n",
      "\u001b[0;31mKeyboardInterrupt\u001b[0m: "
     ]
    }
   ],
   "source": [
    "%%time\n",
    "etetree = ete3.Tree(nwk.decode(\"UTF-8\"),1)"
   ]
  },
  {
   "cell_type": "markdown",
   "id": "2c13980e",
   "metadata": {},
   "source": [
    "Ete3 takes six times longer to load *just* the newick tree sans mutations. The power of the MAT library is not to be underestimated!"
   ]
  },
  {
   "cell_type": "markdown",
   "id": "253f874a",
   "metadata": {},
   "source": [
    "The API can extract subtrees with requested attributes, much like matUtils extract, and save the results to a new protobuf file."
   ]
  },
  {
   "cell_type": "code",
   "execution_count": null,
   "id": "43eb9a4c",
   "metadata": {},
   "outputs": [],
   "source": [
    "%%time\n",
    "omicron = t.get_clade(\"BA.1\")\n",
    "print(\"Omicron Total Parsimony:\",omicron.get_parsimony_score())\n",
    "omicron.save_pb(\"omicron_only.pb\")"
   ]
  },
  {
   "cell_type": "markdown",
   "id": "c8f6faa0",
   "metadata": {},
   "source": [
    "The API can traverse the tree in breadth- or depth-first order and contains a python-readable MATNode class!"
   ]
  },
  {
   "cell_type": "code",
   "execution_count": null,
   "id": "873a10ad",
   "metadata": {},
   "outputs": [],
   "source": [
    "%%time\n",
    "allnodes = t.depth_first_expansion()\n",
    "len(allnodes)"
   ]
  },
  {
   "cell_type": "code",
   "execution_count": null,
   "id": "38e214d6",
   "metadata": {},
   "outputs": [],
   "source": [
    "%%time\n",
    "#and how does this compare to ete3 traversal time?\n",
    "for node in etetree.traverse('postorder'):\n",
    "    pass"
   ]
  },
  {
   "cell_type": "markdown",
   "id": "9a3864ea",
   "metadata": {},
   "source": [
    "We can see already that despite tracking mutations assigned to each node, our wrapper is ~5x faster than the equivalent functions in ete3. A great sign for usability!"
   ]
  },
  {
   "cell_type": "code",
   "execution_count": null,
   "id": "8a6d82b4",
   "metadata": {},
   "outputs": [],
   "source": [
    "help(allnodes[250])"
   ]
  },
  {
   "cell_type": "markdown",
   "id": "59ad802b",
   "metadata": {},
   "source": [
    "The node class contains getter methods for each of the original C++ node class attributes, allowing for python-levle parsing and selection of nodes from a set of MATNode objects."
   ]
  },
  {
   "cell_type": "code",
   "execution_count": null,
   "id": "d9d48087",
   "metadata": {},
   "outputs": [],
   "source": [
    "leaves = [n for n in allnodes if n.is_leaf()]\n",
    "len(leaves)"
   ]
  },
  {
   "cell_type": "markdown",
   "id": "456d69df",
   "metadata": {},
   "source": [
    "Finally, the API can also support cython-only functions for particular analytical applications. Here is one example- a function which counts individual mutation types across all nodes and loads them into a Python dictionary!"
   ]
  },
  {
   "cell_type": "code",
   "execution_count": null,
   "id": "2272daa1",
   "metadata": {},
   "outputs": [],
   "source": [
    "%%time\n",
    "mcount = t.count_mutations()\n",
    "sns.barplot(list(mcount.keys()),list(mcount.values()))"
   ]
  },
  {
   "cell_type": "markdown",
   "id": "c07097e0",
   "metadata": {},
   "source": [
    "Our API also provides a translation method which computes and stores translations to amino acid changes from each nucleotide mutation on the tree, automatically propagating any changes as AAChange class objects to Nodes obtained from a tree with translations computed. (This does significantly slow traversal/MATNode generation time)"
   ]
  },
  {
   "cell_type": "code",
   "execution_count": 3,
   "id": "6ef0b94a",
   "metadata": {},
   "outputs": [],
   "source": [
    "t.translate('ncbiGenes.gtf','NC_045512v2.fa')"
   ]
  },
  {
   "cell_type": "code",
   "execution_count": null,
   "id": "f152d047",
   "metadata": {},
   "outputs": [],
   "source": [
    "%%time\n",
    "translated_nodes = t.depth_first_expansion()"
   ]
  },
  {
   "cell_type": "code",
   "execution_count": 9,
   "id": "430207f0",
   "metadata": {},
   "outputs": [
    {
     "data": {
      "text/plain": [
       "'V2157I'"
      ]
     },
     "execution_count": 9,
     "metadata": {},
     "output_type": "execute_result"
    }
   ],
   "source": [
    "translated_nodes[10].translation[0].aa"
   ]
  },
  {
   "cell_type": "markdown",
   "id": "ede41fda",
   "metadata": {},
   "source": [
    "Altogether, this wrapper exposes basic and extremely useful functions of the excellent Mutation_Annotated_Tree library and matUtils to Python to allow for efficient and informed analysis.\n",
    "\n",
    "If you've ever found yourself trying to run an analysis on a MAT pb and been frustrated by the linear nature of the command line tools and the constant need to parse different text files, this wrapper could help you!\n",
    "\n",
    "I'm seeking feedback on any and all aspects of the wrapper and am collecting it in a google doc [here](https://docs.google.com/document/d/1UR82v2xJixnEIEHRh7jZawClOqmsufrPWELygq8lb_Y/edit?usp=sharing). Try it out!"
   ]
  }
 ],
 "metadata": {
  "kernelspec": {
   "display_name": "Python 3 (ipykernel)",
   "language": "python",
   "name": "python3"
  },
  "language_info": {
   "codemirror_mode": {
    "name": "ipython",
    "version": 3
   },
   "file_extension": ".py",
   "mimetype": "text/x-python",
   "name": "python",
   "nbconvert_exporter": "python",
   "pygments_lexer": "ipython3",
   "version": "3.8.8"
  }
 },
 "nbformat": 4,
 "nbformat_minor": 5
}
